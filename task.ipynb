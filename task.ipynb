{
 "cells": [
  {
   "cell_type": "code",
   "execution_count": 4,
   "metadata": {},
   "outputs": [],
   "source": [
    "import numpy as np"
   ]
  },
  {
   "cell_type": "code",
   "execution_count": 5,
   "metadata": {},
   "outputs": [],
   "source": [
    "def split_into_pairs(number):\n",
    "    change_into_string = str(number)\n",
    "    pairs = []\n",
    "    for i in range(0, len(change_into_string), 2):\n",
    "        pair = int(change_into_string[i:i+2])\n",
    "        pairs.append(pair)\n",
    "    return pairs"
   ]
  },
  {
   "cell_type": "code",
   "execution_count": 6,
   "metadata": {},
   "outputs": [],
   "source": [
    "def cellular_automaton(rule, time, base_cells, boundary_condition):\n",
    "    if time <= 0:\n",
    "        print(\"Czas musi być większy od 0\")\n",
    "        return\n",
    "        \n",
    "    else:\n",
    "        binary_rule = bin(rule)\n",
    "        temp = \"\"\n",
    "        for i in range (8-len(binary_rule[2:])):\n",
    "            temp += \"0\"\n",
    "        \n",
    "        print(base_cells)\n",
    "        binary_rule = temp + binary_rule[2:]\n",
    "\n",
    "        \n",
    "        plik = open(f'Rule{rule}.txt',\"w\")\n",
    "        for t in range (time):\n",
    "            new_tab = np.zeros(len(base_cells), dtype=int)\n",
    "            for i in range (len(base_cells)):\n",
    "                zero_cell = \"\"\n",
    "                for j in range(-1,2):\n",
    "                    if boundary_condition == 'absorpcyjny':\n",
    "                        if i + j > len(base_cells)-1 or i + j < 0:\n",
    "                            zero_cell += \"0\" \n",
    "                        else:\n",
    "                            zero_cell += str(base_cells[i+j])\n",
    "                    else:\n",
    "                        zero_cell += str(base_cells[(i+j+len(base_cells))% len(base_cells)])\n",
    "\n",
    "                zero_cell = 7- int(zero_cell,2) \n",
    "                new_cell = binary_rule[zero_cell]\n",
    "                new_tab[i] = new_cell\n",
    "            plik.write(np.array2string(new_tab)+\"\\n\")\n",
    "            linia = np.array2string(new_tab)\n",
    "            linia = linia.replace(\"0\",\" \")\n",
    "            linia = linia.replace(\"1\",\"\\u25A0\")\n",
    "            print(linia)\n",
    "\n",
    "            base_cells = new_tab\n",
    "        plik.close()"
   ]
  },
  {
   "cell_type": "code",
   "execution_count": 7,
   "metadata": {},
   "outputs": [
    {
     "name": "stdout",
     "output_type": "stream",
     "text": [
      "Numer albumu: 410023\n",
      "Pary liczb: [41, 0, 23]\n",
      "warunek brzegowy absorpcyjny:\n",
      "[1 1 0 0 1 0 1 0 0 1 1]\n",
      "[■ ■ ■ ■       ■ ■ ■ ■]\n",
      "[■     ■ ■   ■ ■     ■]\n",
      "[  ■ ■ ■ ■   ■ ■ ■ ■  ]\n",
      "[■ ■     ■   ■     ■ ■]\n",
      "[■ ■ ■ ■       ■ ■ ■ ■]\n",
      "warunek brzegowy periodyczny:\n",
      "[1 1 0 0 1 0 1 0 0 1 1]\n",
      "[  ■ ■ ■       ■ ■ ■  ]\n",
      "[■ ■   ■ ■   ■ ■   ■ ■]\n",
      "[  ■   ■ ■   ■ ■   ■  ]\n",
      "[■     ■ ■   ■ ■     ■]\n",
      "[■ ■ ■ ■ ■   ■ ■ ■ ■ ■]\n",
      "Dla numeru albumu:\n",
      "[1 1 0 0 1 0 1 0 0 1 1]\n",
      "[■         ■       ■  ]\n",
      "[    ■ ■       ■      ]\n",
      "[■   ■     ■       ■ ■]\n",
      "[  ■           ■   ■  ]\n",
      "[      ■ ■ ■     ■    ]\n",
      "Dla numeru albumu:\n",
      "[1 1 0 0 1 0 1 0 0 1 1]\n",
      "[                     ]\n",
      "[                     ]\n",
      "[                     ]\n",
      "[                     ]\n",
      "[                     ]\n",
      "Dla numeru albumu:\n",
      "[1 1 0 0 1 0 1 0 0 1 1]\n",
      "[    ■ ■ ■   ■ ■ ■    ]\n",
      "[■ ■               ■ ■]\n",
      "[    ■ ■ ■ ■ ■ ■ ■    ]\n",
      "[■ ■               ■ ■]\n",
      "[    ■ ■ ■ ■ ■ ■ ■    ]\n"
     ]
    }
   ],
   "source": [
    "numer_albumu = 410023 \n",
    "pairs = split_into_pairs(numer_albumu)\n",
    "\n",
    "print(\"Numer albumu:\", numer_albumu)\n",
    "print(\"Pary liczb:\", pairs)\n",
    "base = np.array([1,1,0,0,1,0,1,0,0,1,1], dtype=int)\n",
    "\n",
    "print(\"warunek brzegowy absorpcyjny:\")\n",
    "cellular_automaton(90, 5, base,'absorpcyjny')\n",
    "print(\"warunek brzegowy periodyczny:\")\n",
    "cellular_automaton(90, 5, base, 'periodyczny')\n",
    "\n",
    "\n",
    "for n in pairs:\n",
    "    print(\"Dla numeru albumu:\")\n",
    "    cellular_automaton(n, 5, base, \"absorpcyjny\")"
   ]
  }
 ],
 "metadata": {
  "kernelspec": {
   "display_name": "Python 3",
   "language": "python",
   "name": "python3"
  },
  "language_info": {
   "codemirror_mode": {
    "name": "ipython",
    "version": 3
   },
   "file_extension": ".py",
   "mimetype": "text/x-python",
   "name": "python",
   "nbconvert_exporter": "python",
   "pygments_lexer": "ipython3",
   "version": "3.10.11"
  }
 },
 "nbformat": 4,
 "nbformat_minor": 2
}
